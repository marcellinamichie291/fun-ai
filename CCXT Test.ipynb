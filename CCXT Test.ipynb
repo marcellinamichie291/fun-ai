{
 "cells": [
  {
   "cell_type": "code",
   "execution_count": 1,
   "id": "8e43a9e4",
   "metadata": {},
   "outputs": [],
   "source": [
    "\n",
    "import ccxt \n",
    "from datetime import datetime\n",
    "\n",
    "exchange = ccxt.okx()\n"
   ]
  },
  {
   "cell_type": "code",
   "execution_count": 3,
   "id": "783142fd",
   "metadata": {},
   "outputs": [],
   "source": [
    "data = exchange.fetch_ohlcv(\n",
    "    symbol='BTC-USDT',\n",
    "    timeframe='1h',\n",
    "    since=int(datetime(2020, 1, 1).timestamp() * 1000),\n",
    "    since=int(datetime(2020, 1, 1).timestamp() * 1000),\n",
    "\n",
    "    limit=10000,\n",
    ")"
   ]
  },
  {
   "cell_type": "code",
   "execution_count": 6,
   "id": "2f3cb56b",
   "metadata": {},
   "outputs": [
    {
     "data": {
      "text/plain": [
       "(1577854800000,)"
      ]
     },
     "execution_count": 6,
     "metadata": {},
     "output_type": "execute_result"
    }
   ],
   "source": [
    "int(datetime(2020, 1, 1).timestamp() * 1000),"
   ]
  },
  {
   "cell_type": "code",
   "execution_count": 7,
   "id": "fc222a5d",
   "metadata": {},
   "outputs": [
    {
     "data": {
      "text/plain": [
       "[[1613494800000, 48154.2, 48599.9, 48132.7, 48234.4, 370.48235948],\n",
       " [1613498400000, 48226.0, 48695.1, 47755.0, 48613.0, 527.77039464]]"
      ]
     },
     "execution_count": 7,
     "metadata": {},
     "output_type": "execute_result"
    }
   ],
   "source": [
    "data[0:2]"
   ]
  },
  {
   "cell_type": "code",
   "execution_count": 8,
   "id": "bb108bdd",
   "metadata": {},
   "outputs": [],
   "source": [
    "# from kucoin_futures.client import Trade\n",
    "\n",
    "\n",
    "# client = Trade(key='636070f82b968a0001540142', secret='bd9a171b-de7a-4acc-b8c9-26df4b686c20', passphrase='Novalabs', is_sandbox=True)\n",
    "\n",
    "# data = client.change_position_risk_limit_level(symbol='XBTUSDTM', level=5)\n"
   ]
  },
  {
   "cell_type": "code",
   "execution_count": 9,
   "id": "6de4fe5d",
   "metadata": {},
   "outputs": [
    {
     "data": {
      "text/plain": [
       "3600000"
      ]
     },
     "execution_count": 9,
     "metadata": {},
     "output_type": "execute_result"
    }
   ],
   "source": [
    "1613498400000 - 1613494800000\n"
   ]
  },
  {
   "cell_type": "code",
   "execution_count": 11,
   "id": "ac139d2e",
   "metadata": {},
   "outputs": [
    {
     "data": {
      "text/plain": [
       "100"
      ]
     },
     "execution_count": 11,
     "metadata": {},
     "output_type": "execute_result"
    }
   ],
   "source": [
    "len(data)"
   ]
  },
  {
   "cell_type": "code",
   "execution_count": null,
   "id": "0c649778",
   "metadata": {},
   "outputs": [],
   "source": []
  }
 ],
 "metadata": {
  "kernelspec": {
   "display_name": "Python 3 (ipykernel)",
   "language": "python",
   "name": "python3"
  },
  "language_info": {
   "codemirror_mode": {
    "name": "ipython",
    "version": 3
   },
   "file_extension": ".py",
   "mimetype": "text/x-python",
   "name": "python",
   "nbconvert_exporter": "python",
   "pygments_lexer": "ipython3",
   "version": "3.9.12"
  }
 },
 "nbformat": 4,
 "nbformat_minor": 5
}
