{
 "cells": [
  {
   "cell_type": "code",
   "execution_count": 12,
   "id": "8e43a9e4",
   "metadata": {},
   "outputs": [],
   "source": [
    "\n",
    "import ccxt \n",
    "from datetime import datetime\n",
    "\n",
    "exchange = ccxt.kucoinfutures({\n",
    "    'apiKey': '636070f82b968a0001540142',\n",
    "    'sercret': 'bd9a171b-de7a-4acc-b8c9-26df4b686c20',\n",
    "    'password': 'Novalabs',\n",
    "    'testnet': True\n",
    "})\n"
   ]
  },
  {
   "cell_type": "code",
   "execution_count": 13,
   "id": "783142fd",
   "metadata": {},
   "outputs": [],
   "source": [
    "data = exchange.fetch_ohlcv(\n",
    "    symbol='XBTUSDTM',\n",
    "    timeframe='1h',\n",
    "    since=int(datetime(2020, 1, 1).timestamp() * 1000),\n",
    "    limit=10000,\n",
    ")"
   ]
  },
  {
   "cell_type": "code",
   "execution_count": 14,
   "id": "fc222a5d",
   "metadata": {},
   "outputs": [
    {
     "data": {
      "text/plain": [
       "[]"
      ]
     },
     "execution_count": 14,
     "metadata": {},
     "output_type": "execute_result"
    }
   ],
   "source": [
    "data"
   ]
  },
  {
   "cell_type": "code",
   "execution_count": 22,
   "id": "bb108bdd",
   "metadata": {},
   "outputs": [
    {
     "ename": "Exception",
     "evalue": "200-{\"code\":\"500010\",\"msg\":\"risklimit.level.not.exist\"}",
     "output_type": "error",
     "traceback": [
      "\u001b[0;31m---------------------------------------------------------------------------\u001b[0m",
      "\u001b[0;31mException\u001b[0m                                 Traceback (most recent call last)",
      "Input \u001b[0;32mIn [22]\u001b[0m, in \u001b[0;36m<cell line: 6>\u001b[0;34m()\u001b[0m\n\u001b[1;32m      1\u001b[0m \u001b[38;5;28;01mfrom\u001b[39;00m \u001b[38;5;21;01mkucoin_futures\u001b[39;00m\u001b[38;5;21;01m.\u001b[39;00m\u001b[38;5;21;01mclient\u001b[39;00m \u001b[38;5;28;01mimport\u001b[39;00m Trade\n\u001b[1;32m      4\u001b[0m client \u001b[38;5;241m=\u001b[39m Trade(key\u001b[38;5;241m=\u001b[39m\u001b[38;5;124m'\u001b[39m\u001b[38;5;124m636070f82b968a0001540142\u001b[39m\u001b[38;5;124m'\u001b[39m, secret\u001b[38;5;241m=\u001b[39m\u001b[38;5;124m'\u001b[39m\u001b[38;5;124mbd9a171b-de7a-4acc-b8c9-26df4b686c20\u001b[39m\u001b[38;5;124m'\u001b[39m, passphrase\u001b[38;5;241m=\u001b[39m\u001b[38;5;124m'\u001b[39m\u001b[38;5;124mNovalabs\u001b[39m\u001b[38;5;124m'\u001b[39m, is_sandbox\u001b[38;5;241m=\u001b[39m\u001b[38;5;28;01mTrue\u001b[39;00m)\n\u001b[0;32m----> 6\u001b[0m data \u001b[38;5;241m=\u001b[39m \u001b[43mclient\u001b[49m\u001b[38;5;241;43m.\u001b[39;49m\u001b[43mchange_position_risk_limit_level\u001b[49m\u001b[43m(\u001b[49m\u001b[43msymbol\u001b[49m\u001b[38;5;241;43m=\u001b[39;49m\u001b[38;5;124;43m'\u001b[39;49m\u001b[38;5;124;43mXBTUSDTM\u001b[39;49m\u001b[38;5;124;43m'\u001b[39;49m\u001b[43m,\u001b[49m\u001b[43m \u001b[49m\u001b[43mlevel\u001b[49m\u001b[38;5;241;43m=\u001b[39;49m\u001b[38;5;241;43m5\u001b[39;49m\u001b[43m)\u001b[49m\n",
      "File \u001b[0;32m~/opt/anaconda3/lib/python3.9/site-packages/kucoin_futures/trade/trade.py:218\u001b[0m, in \u001b[0;36mTradeData.change_position_risk_limit_level\u001b[0;34m(self, symbol, level)\u001b[0m\n\u001b[1;32m    205\u001b[0m \u001b[38;5;124;03m\"\"\"\u001b[39;00m\n\u001b[1;32m    206\u001b[0m \u001b[38;5;124;03mhttps://docs.kucoin.com/futures/#adjust-risk-limit-level\u001b[39;00m\n\u001b[1;32m    207\u001b[0m \u001b[38;5;124;03m\u001b[39;00m\n\u001b[0;32m   (...)\u001b[0m\n\u001b[1;32m    212\u001b[0m \u001b[38;5;124;03m:return:\u001b[39;00m\n\u001b[1;32m    213\u001b[0m \u001b[38;5;124;03m\"\"\"\u001b[39;00m\n\u001b[1;32m    214\u001b[0m params \u001b[38;5;241m=\u001b[39m {\n\u001b[1;32m    215\u001b[0m     \u001b[38;5;124m'\u001b[39m\u001b[38;5;124msymbol\u001b[39m\u001b[38;5;124m'\u001b[39m: symbol,\n\u001b[1;32m    216\u001b[0m     \u001b[38;5;124m'\u001b[39m\u001b[38;5;124mlevel\u001b[39m\u001b[38;5;124m'\u001b[39m: level,\n\u001b[1;32m    217\u001b[0m }\n\u001b[0;32m--> 218\u001b[0m \u001b[38;5;28;01mreturn\u001b[39;00m \u001b[38;5;28;43mself\u001b[39;49m\u001b[38;5;241;43m.\u001b[39;49m\u001b[43m_request\u001b[49m\u001b[43m(\u001b[49m\u001b[38;5;124;43m'\u001b[39;49m\u001b[38;5;124;43mPOST\u001b[39;49m\u001b[38;5;124;43m'\u001b[39;49m\u001b[43m,\u001b[49m\u001b[43m \u001b[49m\u001b[38;5;124;43m'\u001b[39;49m\u001b[38;5;124;43m/api/v1/position/risk-limit-level/change\u001b[39;49m\u001b[38;5;124;43m'\u001b[39;49m\u001b[43m,\u001b[49m\u001b[43m \u001b[49m\u001b[43mparams\u001b[49m\u001b[38;5;241;43m=\u001b[39;49m\u001b[43mparams\u001b[49m\u001b[43m)\u001b[49m\n",
      "File \u001b[0;32m~/opt/anaconda3/lib/python3.9/site-packages/kucoin_futures/base_request/base_request.py:95\u001b[0m, in \u001b[0;36mKucoinFuturesBaseRestApi._request\u001b[0;34m(self, method, uri, timeout, auth, params)\u001b[0m\n\u001b[1;32m     92\u001b[0m \u001b[38;5;28;01melse\u001b[39;00m:\n\u001b[1;32m     93\u001b[0m     response_data \u001b[38;5;241m=\u001b[39m requests\u001b[38;5;241m.\u001b[39mrequest(method, url, headers\u001b[38;5;241m=\u001b[39mheaders, data\u001b[38;5;241m=\u001b[39mdata_json,\n\u001b[1;32m     94\u001b[0m                                      timeout\u001b[38;5;241m=\u001b[39mtimeout)\n\u001b[0;32m---> 95\u001b[0m \u001b[38;5;28;01mreturn\u001b[39;00m \u001b[38;5;28;43mself\u001b[39;49m\u001b[38;5;241;43m.\u001b[39;49m\u001b[43mcheck_response_data\u001b[49m\u001b[43m(\u001b[49m\u001b[43mresponse_data\u001b[49m\u001b[43m)\u001b[49m\n",
      "File \u001b[0;32m~/opt/anaconda3/lib/python3.9/site-packages/kucoin_futures/base_request/base_request.py:112\u001b[0m, in \u001b[0;36mKucoinFuturesBaseRestApi.check_response_data\u001b[0;34m(response_data)\u001b[0m\n\u001b[1;32m    110\u001b[0m                     \u001b[38;5;28;01mreturn\u001b[39;00m data\n\u001b[1;32m    111\u001b[0m             \u001b[38;5;28;01melse\u001b[39;00m:\n\u001b[0;32m--> 112\u001b[0m                 \u001b[38;5;28;01mraise\u001b[39;00m \u001b[38;5;167;01mException\u001b[39;00m(\u001b[38;5;124m\"\u001b[39m\u001b[38;5;132;01m{}\u001b[39;00m\u001b[38;5;124m-\u001b[39m\u001b[38;5;132;01m{}\u001b[39;00m\u001b[38;5;124m\"\u001b[39m\u001b[38;5;241m.\u001b[39mformat(response_data\u001b[38;5;241m.\u001b[39mstatus_code, response_data\u001b[38;5;241m.\u001b[39mtext))\n\u001b[1;32m    113\u001b[0m \u001b[38;5;28;01melse\u001b[39;00m:\n\u001b[1;32m    114\u001b[0m     \u001b[38;5;28;01mraise\u001b[39;00m \u001b[38;5;167;01mException\u001b[39;00m(\u001b[38;5;124m\"\u001b[39m\u001b[38;5;132;01m{}\u001b[39;00m\u001b[38;5;124m-\u001b[39m\u001b[38;5;132;01m{}\u001b[39;00m\u001b[38;5;124m\"\u001b[39m\u001b[38;5;241m.\u001b[39mformat(response_data\u001b[38;5;241m.\u001b[39mstatus_code, response_data\u001b[38;5;241m.\u001b[39mtext))\n",
      "\u001b[0;31mException\u001b[0m: 200-{\"code\":\"500010\",\"msg\":\"risklimit.level.not.exist\"}"
     ]
    }
   ],
   "source": [
    "from kucoin_futures.client import Trade\n",
    "\n",
    "\n",
    "client = Trade(key='636070f82b968a0001540142', secret='bd9a171b-de7a-4acc-b8c9-26df4b686c20', passphrase='Novalabs', is_sandbox=True)\n",
    "\n",
    "data = client.change_position_risk_limit_level(symbol='XBTUSDTM', level=5)\n"
   ]
  },
  {
   "cell_type": "code",
   "execution_count": 20,
   "id": "6de4fe5d",
   "metadata": {},
   "outputs": [
    {
     "data": {
      "text/plain": [
       "True"
      ]
     },
     "execution_count": 20,
     "metadata": {},
     "output_type": "execute_result"
    }
   ],
   "source": [
    "data\n"
   ]
  },
  {
   "cell_type": "code",
   "execution_count": null,
   "id": "ac139d2e",
   "metadata": {},
   "outputs": [],
   "source": []
  }
 ],
 "metadata": {
  "kernelspec": {
   "display_name": "Python 3 (ipykernel)",
   "language": "python",
   "name": "python3"
  },
  "language_info": {
   "codemirror_mode": {
    "name": "ipython",
    "version": 3
   },
   "file_extension": ".py",
   "mimetype": "text/x-python",
   "name": "python",
   "nbconvert_exporter": "python",
   "pygments_lexer": "ipython3",
   "version": "3.9.12"
  }
 },
 "nbformat": 4,
 "nbformat_minor": 5
}
